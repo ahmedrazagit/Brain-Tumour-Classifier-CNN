{
 "cells": [
  {
   "cell_type": "code",
   "execution_count": null,
   "metadata": {},
   "outputs": [],
   "source": [
    "import numpy as np\n",
    "import tensorflow as tf\n",
    "import lime\n",
    "import shap\n",
    "import matplotlib.pyplot as plt\n",
    "from lime import lime_image\n",
    "from tensorflow.keras.models import load_model\n",
    "from skimage.segmentation import mark_boundaries\n",
    "\n",
    "# Step 1: Load the model\n",
    "model_path = \"C:\\Users\\Ahmed Raza\\Downloads\\MRI-Brain-Tumor-Detection-main\\MRI-Brain-Tumor-Detection-main\\models\\brain_tumor_cnn_classifier.keras\"  # replace with your model path\n",
    "model = load_model(model_path)\n",
    "\n",
    "# Step 2: Define the prediction function\n",
    "def predict_fn(images):\n",
    "    return model.predict(images)\n",
    "\n",
    "# Step 3: Load or define a sample image\n",
    "# Assuming images are preprocessed as required by the model\n",
    "sample_image = np.expand_dims(preprocessed_image, axis=0)  # Preprocess the image as per your model's requirement\n",
    "\n",
    "# Step 4: LIME Explanation\n",
    "explainer_lime = lime_image.LimeImageExplainer()\n",
    "explanation = explainer_lime.explain_instance(\n",
    "    image=preprocessed_image,\n",
    "    classifier_fn=predict_fn,\n",
    "    top_labels=3,\n",
    "    hide_color=0,\n",
    "    num_samples=1000\n",
    ")\n",
    "\n",
    "# Display LIME explanation for the top label\n",
    "temp, mask = explanation.get_image_and_mask(\n",
    "    label=explanation.top_labels[0],\n",
    "    positive_only=True,\n",
    "    num_features=5,\n",
    "    hide_rest=False\n",
    ")\n",
    "plt.imshow(mark_boundaries(temp / 2 + 0.5, mask))\n",
    "plt.title(\"LIME Explanation\")\n",
    "plt.axis(\"off\")\n",
    "plt.show()\n",
    "\n",
    "# Step 5: SHAP Explanation\n",
    "background = np.random.rand(50, *sample_image.shape[1:])  # Provide a suitable background for SHAP explainer\n",
    "explainer_shap = shap.DeepExplainer(model, background)\n",
    "shap_values = explainer_shap.shap_values(sample_image)\n",
    "\n",
    "# Display SHAP explanation for each class\n",
    "for i, shap_value in enumerate(shap_values):\n",
    "    shap.image_plot(shap_value, sample_image, show=True)\n",
    "    plt.title(f\"SHAP Explanation for Class {i}\")\n",
    "    plt.axis(\"off\")\n"
   ]
  }
 ],
 "metadata": {
  "kernelspec": {
   "display_name": "Python 3",
   "language": "python",
   "name": "python3"
  },
  "language_info": {
   "name": "python",
   "version": "3.10.10"
  }
 },
 "nbformat": 4,
 "nbformat_minor": 2
}
